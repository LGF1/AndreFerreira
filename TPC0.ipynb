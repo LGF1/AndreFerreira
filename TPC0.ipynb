{
  "nbformat": 4,
  "nbformat_minor": 0,
  "metadata": {
    "colab": {
      "name": "Untitled0.ipynb",
      "version": "0.3.2",
      "provenance": [],
      "collapsed_sections": [],
      "include_colab_link": true
    },
    "kernelspec": {
      "name": "python3",
      "display_name": "Python 3"
    }
  },
  "cells": [
    {
      "cell_type": "markdown",
      "metadata": {
        "id": "view-in-github",
        "colab_type": "text"
      },
      "source": [
        "<a href=\"https://colab.research.google.com/github/LGF1/AndreFerreira/blob/master/TPC0.ipynb\" target=\"_parent\"><img src=\"https://colab.research.google.com/assets/colab-badge.svg\" alt=\"Open In Colab\"/></a>"
      ]
    },
    {
      "metadata": {
        "id": "YNGAnR7tOc--",
        "colab_type": "text"
      },
      "cell_type": "markdown",
      "source": [
        "TPC 0:\n",
        "- Criou-se uma função para para fazer return do comprimento do maior gap binário."
      ]
    },
    {
      "metadata": {
        "id": "rc7JIOG0Sjot",
        "colab_type": "code",
        "colab": {}
      },
      "cell_type": "code",
      "source": [
        "def solution(N):\n",
        "    indices = [bit for bit, x in enumerate(f'{N:0b}') if x == '1']\n",
        "    lengths = (end - beg for beg, end in zip(indices, indices[1:]))\n",
        "    return max(lengths, default=1) - 1"
      ],
      "execution_count": 0,
      "outputs": []
    },
    {
      "metadata": {
        "id": "yVgz6ljwPGCm",
        "colab_type": "text"
      },
      "cell_type": "markdown",
      "source": [
        "- Aplicando agora a função criada deveremos obter o resultado esperado, ou seja, o comprimento do maior gap binário do número escolhido:"
      ]
    },
    {
      "metadata": {
        "id": "jOXej-guPiP9",
        "colab_type": "code",
        "colab": {
          "base_uri": "https://localhost:8080/",
          "height": 35
        },
        "outputId": "ba556ec8-3ed6-4bbb-cd32-114079c81999"
      },
      "cell_type": "code",
      "source": [
        "solution(1041)"
      ],
      "execution_count": 3,
      "outputs": [
        {
          "output_type": "execute_result",
          "data": {
            "text/plain": [
              "5"
            ]
          },
          "metadata": {
            "tags": []
          },
          "execution_count": 3
        }
      ]
    }
  ]
}