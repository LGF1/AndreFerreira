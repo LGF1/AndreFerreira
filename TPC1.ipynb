{
  "nbformat": 4,
  "nbformat_minor": 0,
  "metadata": {
    "colab": {
      "name": "TPC1.ipynb",
      "version": "0.3.2",
      "provenance": [],
      "collapsed_sections": [],
      "include_colab_link": true
    },
    "kernelspec": {
      "name": "python3",
      "display_name": "Python 3"
    }
  },
  "cells": [
    {
      "cell_type": "markdown",
      "metadata": {
        "id": "view-in-github",
        "colab_type": "text"
      },
      "source": [
        "<a href=\"https://colab.research.google.com/github/LGF1/AndreFerreira/blob/master/TPC1.ipynb\" target=\"_parent\"><img src=\"https://colab.research.google.com/assets/colab-badge.svg\" alt=\"Open In Colab\"/></a>"
      ]
    },
    {
      "metadata": {
        "id": "XONxjBpPS4Xl",
        "colab_type": "text"
      },
      "cell_type": "markdown",
      "source": [
        "## **TPC 1**\n"
      ]
    },
    {
      "metadata": {
        "id": "arLAfPSiTHIm",
        "colab_type": "text"
      },
      "cell_type": "markdown",
      "source": [
        "Inverted Indexes:\n",
        "Ex.1"
      ]
    },
    {
      "metadata": {
        "id": "DT4j7Ui9iZUq",
        "colab_type": "code",
        "colab": {}
      },
      "cell_type": "code",
      "source": [
        "import pandas as pd\n",
        "import numpy as np"
      ],
      "execution_count": 0,
      "outputs": []
    },
    {
      "metadata": {
        "id": "cpyps-75TVlh",
        "colab_type": "text"
      },
      "cell_type": "markdown",
      "source": [
        "Criação de um Array de Palavras através de um texto gerado \"Randomly\", em que se pôs cada palavra em letras pequenas e dividiu-se cada frase separada por ponto final numa posição desse Array."
      ]
    },
    {
      "metadata": {
        "id": "pb9Bg190mnFx",
        "colab_type": "code",
        "colab": {
          "base_uri": "https://localhost:8080/",
          "height": 35
        },
        "outputId": "e0d7e234-87fd-4a25-e71c-65d28b70d918"
      },
      "cell_type": "code",
      "source": [
        "raw = \"Arrival entered an if drawing request. How daughters not promotion few knowledge contented. Yet winter law behind number stairs garret excuse. Minuter we natural conduct gravity if pointed oh no. Am immediate unwilling of attempted admitting disposing it. Handsome opinions on am at it ladyship.\"\n",
        "raw = raw.lower()\n",
        "raw_list = raw.split(\".\")\n",
        "len(raw_list)"
      ],
      "execution_count": 145,
      "outputs": [
        {
          "output_type": "execute_result",
          "data": {
            "text/plain": [
              "7"
            ]
          },
          "metadata": {
            "tags": []
          },
          "execution_count": 145
        }
      ]
    },
    {
      "metadata": {
        "id": "V4ZxqjujmuDf",
        "colab_type": "code",
        "colab": {
          "base_uri": "https://localhost:8080/",
          "height": 35
        },
        "outputId": "820b6145-f89a-4c69-abe4-cf71c565ecf2"
      },
      "cell_type": "code",
      "source": [
        "\"{}.\".format(raw_list[0])"
      ],
      "execution_count": 146,
      "outputs": [
        {
          "output_type": "execute_result",
          "data": {
            "text/plain": [
              "'arrival entered an if drawing request.'"
            ]
          },
          "metadata": {
            "tags": []
          },
          "execution_count": 146
        }
      ]
    },
    {
      "metadata": {
        "id": "wSf9zQS0mwH-",
        "colab_type": "code",
        "colab": {
          "base_uri": "https://localhost:8080/",
          "height": 35
        },
        "outputId": "6b93cdd2-c396-4dbd-b7a4-fa724c6fdb90"
      },
      "cell_type": "code",
      "source": [
        "\"{}.\".format(raw_list[1])"
      ],
      "execution_count": 147,
      "outputs": [
        {
          "output_type": "execute_result",
          "data": {
            "text/plain": [
              "' how daughters not promotion few knowledge contented.'"
            ]
          },
          "metadata": {
            "tags": []
          },
          "execution_count": 147
        }
      ]
    },
    {
      "metadata": {
        "id": "-ccXJDbzp3CR",
        "colab_type": "code",
        "colab": {
          "base_uri": "https://localhost:8080/",
          "height": 35
        },
        "outputId": "35849991-16cf-4522-aed5-5af3f684fa9e"
      },
      "cell_type": "code",
      "source": [
        "\"{}.\".format(raw_list[2])"
      ],
      "execution_count": 148,
      "outputs": [
        {
          "output_type": "execute_result",
          "data": {
            "text/plain": [
              "' yet winter law behind number stairs garret excuse.'"
            ]
          },
          "metadata": {
            "tags": []
          },
          "execution_count": 148
        }
      ]
    },
    {
      "metadata": {
        "id": "byjSrXnnp3c2",
        "colab_type": "code",
        "colab": {
          "base_uri": "https://localhost:8080/",
          "height": 35
        },
        "outputId": "7e1cbe3d-011f-4a14-dff5-134c9d565bde"
      },
      "cell_type": "code",
      "source": [
        "\"{}.\".format(raw_list[3])"
      ],
      "execution_count": 149,
      "outputs": [
        {
          "output_type": "execute_result",
          "data": {
            "text/plain": [
              "' minuter we natural conduct gravity if pointed oh no.'"
            ]
          },
          "metadata": {
            "tags": []
          },
          "execution_count": 149
        }
      ]
    },
    {
      "metadata": {
        "id": "muUBbAh7p32m",
        "colab_type": "code",
        "colab": {
          "base_uri": "https://localhost:8080/",
          "height": 35
        },
        "outputId": "a7403754-ccf5-47ab-a870-a41ad75fe1d8"
      },
      "cell_type": "code",
      "source": [
        "\"{}.\".format(raw_list[4])"
      ],
      "execution_count": 150,
      "outputs": [
        {
          "output_type": "execute_result",
          "data": {
            "text/plain": [
              "' am immediate unwilling of attempted admitting disposing it.'"
            ]
          },
          "metadata": {
            "tags": []
          },
          "execution_count": 150
        }
      ]
    },
    {
      "metadata": {
        "id": "Ph8Zjr4rp4Gy",
        "colab_type": "code",
        "colab": {
          "base_uri": "https://localhost:8080/",
          "height": 35
        },
        "outputId": "62dfaa2b-730a-45eb-fe5d-2ae21f6b435e"
      },
      "cell_type": "code",
      "source": [
        "\"{}.\".format(raw_list[5])"
      ],
      "execution_count": 151,
      "outputs": [
        {
          "output_type": "execute_result",
          "data": {
            "text/plain": [
              "' handsome opinions on am at it ladyship.'"
            ]
          },
          "metadata": {
            "tags": []
          },
          "execution_count": 151
        }
      ]
    },
    {
      "metadata": {
        "id": "fyX8U882UKs9",
        "colab_type": "text"
      },
      "cell_type": "markdown",
      "source": [
        "Neste caso foi pedido a criação de uma inversão da lista/Array criada anteriormente"
      ]
    },
    {
      "metadata": {
        "id": "ILu6SAN685y_",
        "colab_type": "code",
        "colab": {
          "base_uri": "https://localhost:8080/",
          "height": 144
        },
        "outputId": "4fbffcb9-6056-46a9-b36f-6d681ea8d909"
      },
      "cell_type": "code",
      "source": [
        "raw_list[::-1]"
      ],
      "execution_count": 152,
      "outputs": [
        {
          "output_type": "execute_result",
          "data": {
            "text/plain": [
              "['',\n",
              " ' handsome opinions on am at it ladyship',\n",
              " ' am immediate unwilling of attempted admitting disposing it',\n",
              " ' minuter we natural conduct gravity if pointed oh no',\n",
              " ' yet winter law behind number stairs garret excuse',\n",
              " ' how daughters not promotion few knowledge contented',\n",
              " 'arrival entered an if drawing request']"
            ]
          },
          "metadata": {
            "tags": []
          },
          "execution_count": 152
        }
      ]
    },
    {
      "metadata": {
        "id": "9SgGGgq1UicM",
        "colab_type": "text"
      },
      "cell_type": "markdown",
      "source": [
        "Ex.3"
      ]
    },
    {
      "metadata": {
        "id": "XKNBAsrxUkG3",
        "colab_type": "text"
      },
      "cell_type": "markdown",
      "source": [
        "Foi pedido a criação do mesmo array invertido mas usando DataFrame do Pandas.\n",
        "Bastou importar o pandas e criar a tabela em si"
      ]
    },
    {
      "metadata": {
        "id": "cZw9dMtyivGu",
        "colab_type": "code",
        "colab": {
          "base_uri": "https://localhost:8080/",
          "height": 269
        },
        "outputId": "da4023b2-efa0-4f2b-8238-4a5f5c7f6f1e"
      },
      "cell_type": "code",
      "source": [
        "df = pd.DataFrame(raw_list[::-1])\n",
        "df\n"
      ],
      "execution_count": 153,
      "outputs": [
        {
          "output_type": "execute_result",
          "data": {
            "text/html": [
              "<div>\n",
              "<style scoped>\n",
              "    .dataframe tbody tr th:only-of-type {\n",
              "        vertical-align: middle;\n",
              "    }\n",
              "\n",
              "    .dataframe tbody tr th {\n",
              "        vertical-align: top;\n",
              "    }\n",
              "\n",
              "    .dataframe thead th {\n",
              "        text-align: right;\n",
              "    }\n",
              "</style>\n",
              "<table border=\"1\" class=\"dataframe\">\n",
              "  <thead>\n",
              "    <tr style=\"text-align: right;\">\n",
              "      <th></th>\n",
              "      <th>0</th>\n",
              "    </tr>\n",
              "  </thead>\n",
              "  <tbody>\n",
              "    <tr>\n",
              "      <th>0</th>\n",
              "      <td></td>\n",
              "    </tr>\n",
              "    <tr>\n",
              "      <th>1</th>\n",
              "      <td>handsome opinions on am at it ladyship</td>\n",
              "    </tr>\n",
              "    <tr>\n",
              "      <th>2</th>\n",
              "      <td>am immediate unwilling of attempted admitting...</td>\n",
              "    </tr>\n",
              "    <tr>\n",
              "      <th>3</th>\n",
              "      <td>minuter we natural conduct gravity if pointed...</td>\n",
              "    </tr>\n",
              "    <tr>\n",
              "      <th>4</th>\n",
              "      <td>yet winter law behind number stairs garret ex...</td>\n",
              "    </tr>\n",
              "    <tr>\n",
              "      <th>5</th>\n",
              "      <td>how daughters not promotion few knowledge con...</td>\n",
              "    </tr>\n",
              "    <tr>\n",
              "      <th>6</th>\n",
              "      <td>arrival entered an if drawing request</td>\n",
              "    </tr>\n",
              "  </tbody>\n",
              "</table>\n",
              "</div>"
            ],
            "text/plain": [
              "                                                   0\n",
              "0                                                   \n",
              "1             handsome opinions on am at it ladyship\n",
              "2   am immediate unwilling of attempted admitting...\n",
              "3   minuter we natural conduct gravity if pointed...\n",
              "4   yet winter law behind number stairs garret ex...\n",
              "5   how daughters not promotion few knowledge con...\n",
              "6              arrival entered an if drawing request"
            ]
          },
          "metadata": {
            "tags": []
          },
          "execution_count": 153
        }
      ]
    },
    {
      "metadata": {
        "id": "XbNfVWTtVQwH",
        "colab_type": "text"
      },
      "cell_type": "markdown",
      "source": [
        "Ex.3"
      ]
    },
    {
      "metadata": {
        "id": "xdIL1DD_VSwD",
        "colab_type": "text"
      },
      "cell_type": "markdown",
      "source": [
        "No exercicio 3 é pedido que esse DataFrame não contenha indexes"
      ]
    },
    {
      "metadata": {
        "id": "dBvADscCkfFN",
        "colab_type": "code",
        "colab": {
          "base_uri": "https://localhost:8080/",
          "height": 181
        },
        "outputId": "985f1f41-360f-4d61-a7a9-fec66269b24d"
      },
      "cell_type": "code",
      "source": [
        "print(df.to_csv(sep='\\t', index=False))"
      ],
      "execution_count": 154,
      "outputs": [
        {
          "output_type": "stream",
          "text": [
            "0\n",
            "\"\"\n",
            " handsome opinions on am at it ladyship\n",
            " am immediate unwilling of attempted admitting disposing it\n",
            " minuter we natural conduct gravity if pointed oh no\n",
            " yet winter law behind number stairs garret excuse\n",
            " how daughters not promotion few knowledge contented\n",
            "arrival entered an if drawing request\n",
            "\n"
          ],
          "name": "stdout"
        }
      ]
    },
    {
      "metadata": {
        "id": "bRtArXjAlAij",
        "colab_type": "code",
        "colab": {}
      },
      "cell_type": "code",
      "source": [
        ""
      ],
      "execution_count": 0,
      "outputs": []
    }
  ]
}