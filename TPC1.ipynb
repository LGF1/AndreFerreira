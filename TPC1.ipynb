{
  "nbformat": 4,
  "nbformat_minor": 0,
  "metadata": {
    "colab": {
      "name": "TPC1.ipynb",
      "version": "0.3.2",
      "provenance": [],
      "collapsed_sections": [],
      "include_colab_link": true
    },
    "kernelspec": {
      "name": "python3",
      "display_name": "Python 3"
    }
  },
  "cells": [
    {
      "cell_type": "markdown",
      "metadata": {
        "id": "view-in-github",
        "colab_type": "text"
      },
      "source": [
        "<a href=\"https://colab.research.google.com/github/LGF1/AndreFerreira/blob/master/TPC1.ipynb\" target=\"_parent\"><img src=\"https://colab.research.google.com/assets/colab-badge.svg\" alt=\"Open In Colab\"/></a>"
      ]
    },
    {
      "metadata": {
        "id": "XONxjBpPS4Xl",
        "colab_type": "text"
      },
      "cell_type": "markdown",
      "source": [
        "## **TPC 1**\n"
      ]
    },
    {
      "metadata": {
        "id": "arLAfPSiTHIm",
        "colab_type": "text"
      },
      "cell_type": "markdown",
      "source": [
        "Inverted Indexes:\n",
        "Ex.1"
      ]
    },
    {
      "metadata": {
        "id": "DT4j7Ui9iZUq",
        "colab_type": "code",
        "colab": {}
      },
      "cell_type": "code",
      "source": [
        "import pandas as pd\n",
        "import numpy as np"
      ],
      "execution_count": 0,
      "outputs": []
    },
    {
      "metadata": {
        "id": "cpyps-75TVlh",
        "colab_type": "text"
      },
      "cell_type": "markdown",
      "source": [
        "Criação de um Array de Palavras através de um texto gerado \"Randomly\", em que se pôs cada palavra em letras pequenas e dividiu-se cada frase separada por ponto final numa posição desse Array."
      ]
    },
    {
      "metadata": {
        "id": "pb9Bg190mnFx",
        "colab_type": "code",
        "outputId": "9b334550-8338-493d-86bd-c5fa8397e903",
        "colab": {
          "base_uri": "https://localhost:8080/",
          "height": 35
        }
      },
      "cell_type": "code",
      "source": [
        "raw = \"Arrival entered an if drawing request. How daughters not promotion few knowledge contented. Yet winter law behind number stairs garret excuse. Minuter we natural conduct gravity if pointed oh no. Am immediate unwilling of attempted admitting disposing it. Handsome opinions on am at it ladyship.\"\n",
        "raw = raw.lower()\n",
        "raw_list = raw.split(\".\")\n",
        "len(raw_list)"
      ],
      "execution_count": 2,
      "outputs": [
        {
          "output_type": "execute_result",
          "data": {
            "text/plain": [
              "7"
            ]
          },
          "metadata": {
            "tags": []
          },
          "execution_count": 2
        }
      ]
    },
    {
      "metadata": {
        "id": "V4ZxqjujmuDf",
        "colab_type": "code",
        "outputId": "fd6dc213-99d8-4ac6-e06c-e3172d43e51e",
        "colab": {
          "base_uri": "https://localhost:8080/",
          "height": 35
        }
      },
      "cell_type": "code",
      "source": [
        "\"{}.\".format(raw_list[0])"
      ],
      "execution_count": 3,
      "outputs": [
        {
          "output_type": "execute_result",
          "data": {
            "text/plain": [
              "'arrival entered an if drawing request.'"
            ]
          },
          "metadata": {
            "tags": []
          },
          "execution_count": 3
        }
      ]
    },
    {
      "metadata": {
        "id": "wSf9zQS0mwH-",
        "colab_type": "code",
        "outputId": "9ec512ae-6a1f-46fe-b4c0-bf52c8c6d47b",
        "colab": {
          "base_uri": "https://localhost:8080/",
          "height": 35
        }
      },
      "cell_type": "code",
      "source": [
        "\"{}.\".format(raw_list[1])"
      ],
      "execution_count": 4,
      "outputs": [
        {
          "output_type": "execute_result",
          "data": {
            "text/plain": [
              "' how daughters not promotion few knowledge contented.'"
            ]
          },
          "metadata": {
            "tags": []
          },
          "execution_count": 4
        }
      ]
    },
    {
      "metadata": {
        "id": "-ccXJDbzp3CR",
        "colab_type": "code",
        "outputId": "a2c4003e-ec2f-48ce-e260-51f55fc78ae9",
        "colab": {
          "base_uri": "https://localhost:8080/",
          "height": 35
        }
      },
      "cell_type": "code",
      "source": [
        "\"{}.\".format(raw_list[2])"
      ],
      "execution_count": 5,
      "outputs": [
        {
          "output_type": "execute_result",
          "data": {
            "text/plain": [
              "' yet winter law behind number stairs garret excuse.'"
            ]
          },
          "metadata": {
            "tags": []
          },
          "execution_count": 5
        }
      ]
    },
    {
      "metadata": {
        "id": "byjSrXnnp3c2",
        "colab_type": "code",
        "outputId": "4b930773-7759-43a7-e024-71eda1076864",
        "colab": {
          "base_uri": "https://localhost:8080/",
          "height": 35
        }
      },
      "cell_type": "code",
      "source": [
        "\"{}.\".format(raw_list[3])"
      ],
      "execution_count": 6,
      "outputs": [
        {
          "output_type": "execute_result",
          "data": {
            "text/plain": [
              "' minuter we natural conduct gravity if pointed oh no.'"
            ]
          },
          "metadata": {
            "tags": []
          },
          "execution_count": 6
        }
      ]
    },
    {
      "metadata": {
        "id": "muUBbAh7p32m",
        "colab_type": "code",
        "outputId": "1ed791df-0704-4d9d-a156-95141987712b",
        "colab": {
          "base_uri": "https://localhost:8080/",
          "height": 35
        }
      },
      "cell_type": "code",
      "source": [
        "\"{}.\".format(raw_list[4])"
      ],
      "execution_count": 7,
      "outputs": [
        {
          "output_type": "execute_result",
          "data": {
            "text/plain": [
              "' am immediate unwilling of attempted admitting disposing it.'"
            ]
          },
          "metadata": {
            "tags": []
          },
          "execution_count": 7
        }
      ]
    },
    {
      "metadata": {
        "id": "Ph8Zjr4rp4Gy",
        "colab_type": "code",
        "outputId": "be525321-74fc-4ee2-81a5-2fe4f8facc90",
        "colab": {
          "base_uri": "https://localhost:8080/",
          "height": 35
        }
      },
      "cell_type": "code",
      "source": [
        "\"{}.\".format(raw_list[5])"
      ],
      "execution_count": 8,
      "outputs": [
        {
          "output_type": "execute_result",
          "data": {
            "text/plain": [
              "' handsome opinions on am at it ladyship.'"
            ]
          },
          "metadata": {
            "tags": []
          },
          "execution_count": 8
        }
      ]
    },
    {
      "metadata": {
        "id": "fyX8U882UKs9",
        "colab_type": "text"
      },
      "cell_type": "markdown",
      "source": [
        "Neste caso foi pedido a criação de uma inversão da lista/Array criada anteriormente"
      ]
    },
    {
      "metadata": {
        "id": "ILu6SAN685y_",
        "colab_type": "code",
        "outputId": "3ad53439-58cf-4069-c871-5001ff7bfaeb",
        "colab": {
          "base_uri": "https://localhost:8080/",
          "height": 183
        }
      },
      "cell_type": "code",
      "source": [
        "%%time\n",
        "raw_list[::-1]"
      ],
      "execution_count": 9,
      "outputs": [
        {
          "output_type": "stream",
          "text": [
            "CPU times: user 5 µs, sys: 2 µs, total: 7 µs\n",
            "Wall time: 11.2 µs\n"
          ],
          "name": "stdout"
        },
        {
          "output_type": "execute_result",
          "data": {
            "text/plain": [
              "['',\n",
              " ' handsome opinions on am at it ladyship',\n",
              " ' am immediate unwilling of attempted admitting disposing it',\n",
              " ' minuter we natural conduct gravity if pointed oh no',\n",
              " ' yet winter law behind number stairs garret excuse',\n",
              " ' how daughters not promotion few knowledge contented',\n",
              " 'arrival entered an if drawing request']"
            ]
          },
          "metadata": {
            "tags": []
          },
          "execution_count": 9
        }
      ]
    },
    {
      "metadata": {
        "id": "bRtArXjAlAij",
        "colab_type": "code",
        "outputId": "561af6e3-8198-4b78-862b-bc47f81ee825",
        "colab": {
          "base_uri": "https://localhost:8080/",
          "height": 35
        }
      },
      "cell_type": "code",
      "source": [
        "i_index = {}\n",
        "i_index[\"an\"] = {0:1} #word in, appears in doc 0, 1 time\n",
        "i_index[\"not\"] = {1:1} #word in, appears in doc 1, 1 time\n",
        "i_index[\"yet\"] = {2:1} #word in, appears in doc 2, 1 time\n",
        "i_index[\"we\"] = {3:1} #word in, appears in doc 3, 1 time\n",
        "i_index[\"of\"] = {4:1} #word in, appears in doc 4, 1 time\n",
        "i_index[\"opinions\"] = {5:1} #word in, appears in doc 5, 1 time\n",
        "\n",
        "\n",
        "print(i_index)"
      ],
      "execution_count": 10,
      "outputs": [
        {
          "output_type": "stream",
          "text": [
            "{'an': {0: 1}, 'not': {1: 1}, 'yet': {2: 1}, 'we': {3: 1}, 'of': {4: 1}, 'opinions': {5: 1}}\n"
          ],
          "name": "stdout"
        }
      ]
    },
    {
      "metadata": {
        "id": "9SgGGgq1UicM",
        "colab_type": "text"
      },
      "cell_type": "markdown",
      "source": [
        "Ex.3"
      ]
    },
    {
      "metadata": {
        "id": "XKNBAsrxUkG3",
        "colab_type": "text"
      },
      "cell_type": "markdown",
      "source": [
        "Foi pedido a criação do mesmo array invertido mas usando DataFrame do Pandas.\n",
        "Bastou importar o pandas e criar a tabela em si"
      ]
    },
    {
      "metadata": {
        "id": "cZw9dMtyivGu",
        "colab_type": "code",
        "outputId": "00487b2c-b652-4270-da0d-bb1dd5f8d88a",
        "colab": {
          "base_uri": "https://localhost:8080/",
          "height": 54
        }
      },
      "cell_type": "code",
      "source": [
        "%%time\n",
        "df = pd.DataFrame(raw_list[::-1])\n",
        "df\n"
      ],
      "execution_count": 11,
      "outputs": [
        {
          "output_type": "stream",
          "text": [
            "CPU times: user 1.78 ms, sys: 174 µs, total: 1.95 ms\n",
            "Wall time: 5.18 ms\n"
          ],
          "name": "stdout"
        }
      ]
    },
    {
      "metadata": {
        "id": "XbNfVWTtVQwH",
        "colab_type": "text"
      },
      "cell_type": "markdown",
      "source": [
        "Ex.3"
      ]
    },
    {
      "metadata": {
        "id": "xdIL1DD_VSwD",
        "colab_type": "text"
      },
      "cell_type": "markdown",
      "source": [
        "No exercicio 3 é pedido que esse DataFrame não contenha indexes"
      ]
    },
    {
      "metadata": {
        "id": "dBvADscCkfFN",
        "colab_type": "code",
        "outputId": "9f2563d2-3973-4c1f-cba7-509b06172c75",
        "colab": {
          "base_uri": "https://localhost:8080/",
          "height": 220
        }
      },
      "cell_type": "code",
      "source": [
        "%%time\n",
        "print(df.to_csv(sep='\\t', index=False))"
      ],
      "execution_count": 12,
      "outputs": [
        {
          "output_type": "stream",
          "text": [
            "0\n",
            "\"\"\n",
            " handsome opinions on am at it ladyship\n",
            " am immediate unwilling of attempted admitting disposing it\n",
            " minuter we natural conduct gravity if pointed oh no\n",
            " yet winter law behind number stairs garret excuse\n",
            " how daughters not promotion few knowledge contented\n",
            "arrival entered an if drawing request\n",
            "\n",
            "CPU times: user 7.15 ms, sys: 3.91 ms, total: 11.1 ms\n",
            "Wall time: 29.4 ms\n"
          ],
          "name": "stdout"
        }
      ]
    }
  ]
}