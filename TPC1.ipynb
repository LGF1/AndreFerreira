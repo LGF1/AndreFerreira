{
  "nbformat": 4,
  "nbformat_minor": 0,
  "metadata": {
    "colab": {
      "name": "TPC1.ipynb",
      "version": "0.3.2",
      "provenance": [],
      "collapsed_sections": [],
      "include_colab_link": true
    },
    "kernelspec": {
      "name": "python3",
      "display_name": "Python 3"
    }
  },
  "cells": [
    {
      "cell_type": "markdown",
      "metadata": {
        "id": "view-in-github",
        "colab_type": "text"
      },
      "source": [
        "<a href=\"https://colab.research.google.com/github/LGF1/AndreFerreira/blob/master/TPC1.ipynb\" target=\"_parent\"><img src=\"https://colab.research.google.com/assets/colab-badge.svg\" alt=\"Open In Colab\"/></a>"
      ]
    },
    {
      "metadata": {
        "id": "XONxjBpPS4Xl",
        "colab_type": "text"
      },
      "cell_type": "markdown",
      "source": [
        "## **TPC 1**\n"
      ]
    },
    {
      "metadata": {
        "id": "arLAfPSiTHIm",
        "colab_type": "text"
      },
      "cell_type": "markdown",
      "source": [
        "Inverted Indexes:\n",
        "Ex.1"
      ]
    },
    {
      "metadata": {
        "id": "DT4j7Ui9iZUq",
        "colab_type": "code",
        "colab": {}
      },
      "cell_type": "code",
      "source": [
        "import pandas as pd\n",
        "import numpy as np"
      ],
      "execution_count": 0,
      "outputs": []
    },
    {
      "metadata": {
        "id": "cpyps-75TVlh",
        "colab_type": "text"
      },
      "cell_type": "markdown",
      "source": [
        "Criação de um Array de Palavras através de um texto gerado \"Randomly\", em que se pôs cada palavra em letras pequenas e dividiu-se cada frase separada por ponto final numa posição desse Array."
      ]
    },
    {
      "metadata": {
        "id": "pb9Bg190mnFx",
        "colab_type": "code",
        "outputId": "5cd5712f-6867-4c2b-dcd3-570a924ca1c7",
        "colab": {
          "base_uri": "https://localhost:8080/",
          "height": 35
        }
      },
      "cell_type": "code",
      "source": [
        "raw = \"Arrival entered an if drawing request. How daughters not promotion few knowledge contented. Yet winter law behind number stairs garret excuse. Minuter we natural conduct gravity if pointed oh no. Am immediate unwilling of attempted admitting disposing it. Handsome opinions on am at it ladyship.\"\n",
        "raw = raw.lower()\n",
        "raw_list = raw.split(\".\")\n",
        "len(raw_list)"
      ],
      "execution_count": 128,
      "outputs": [
        {
          "output_type": "execute_result",
          "data": {
            "text/plain": [
              "7"
            ]
          },
          "metadata": {
            "tags": []
          },
          "execution_count": 128
        }
      ]
    },
    {
      "metadata": {
        "id": "V4ZxqjujmuDf",
        "colab_type": "code",
        "outputId": "0a23e4ad-c5fc-41fd-83c4-ce8988493aeb",
        "colab": {
          "base_uri": "https://localhost:8080/",
          "height": 35
        }
      },
      "cell_type": "code",
      "source": [
        "\"{}.\".format(raw_list[0])"
      ],
      "execution_count": 129,
      "outputs": [
        {
          "output_type": "execute_result",
          "data": {
            "text/plain": [
              "'arrival entered an if drawing request.'"
            ]
          },
          "metadata": {
            "tags": []
          },
          "execution_count": 129
        }
      ]
    },
    {
      "metadata": {
        "id": "wSf9zQS0mwH-",
        "colab_type": "code",
        "outputId": "4ea650eb-1897-44f2-e125-6c445d0c51c7",
        "colab": {
          "base_uri": "https://localhost:8080/",
          "height": 35
        }
      },
      "cell_type": "code",
      "source": [
        "\"{}.\".format(raw_list[1])"
      ],
      "execution_count": 130,
      "outputs": [
        {
          "output_type": "execute_result",
          "data": {
            "text/plain": [
              "' how daughters not promotion few knowledge contented.'"
            ]
          },
          "metadata": {
            "tags": []
          },
          "execution_count": 130
        }
      ]
    },
    {
      "metadata": {
        "id": "-ccXJDbzp3CR",
        "colab_type": "code",
        "outputId": "fa1935c5-354c-422c-a7aa-6ee2f0bd7059",
        "colab": {
          "base_uri": "https://localhost:8080/",
          "height": 35
        }
      },
      "cell_type": "code",
      "source": [
        "\"{}.\".format(raw_list[2])"
      ],
      "execution_count": 131,
      "outputs": [
        {
          "output_type": "execute_result",
          "data": {
            "text/plain": [
              "' yet winter law behind number stairs garret excuse.'"
            ]
          },
          "metadata": {
            "tags": []
          },
          "execution_count": 131
        }
      ]
    },
    {
      "metadata": {
        "id": "byjSrXnnp3c2",
        "colab_type": "code",
        "outputId": "c2761311-62bd-42d5-c501-4cf9e0d53414",
        "colab": {
          "base_uri": "https://localhost:8080/",
          "height": 35
        }
      },
      "cell_type": "code",
      "source": [
        "\"{}.\".format(raw_list[3])"
      ],
      "execution_count": 132,
      "outputs": [
        {
          "output_type": "execute_result",
          "data": {
            "text/plain": [
              "' minuter we natural conduct gravity if pointed oh no.'"
            ]
          },
          "metadata": {
            "tags": []
          },
          "execution_count": 132
        }
      ]
    },
    {
      "metadata": {
        "id": "muUBbAh7p32m",
        "colab_type": "code",
        "outputId": "90301221-32c9-4298-d69e-208ce79adec2",
        "colab": {
          "base_uri": "https://localhost:8080/",
          "height": 35
        }
      },
      "cell_type": "code",
      "source": [
        "\"{}.\".format(raw_list[4])"
      ],
      "execution_count": 133,
      "outputs": [
        {
          "output_type": "execute_result",
          "data": {
            "text/plain": [
              "' am immediate unwilling of attempted admitting disposing it.'"
            ]
          },
          "metadata": {
            "tags": []
          },
          "execution_count": 133
        }
      ]
    },
    {
      "metadata": {
        "id": "Ph8Zjr4rp4Gy",
        "colab_type": "code",
        "outputId": "79e84903-bed3-41f6-82e4-800cbf4c1586",
        "colab": {
          "base_uri": "https://localhost:8080/",
          "height": 35
        }
      },
      "cell_type": "code",
      "source": [
        "\"{}.\".format(raw_list[5])"
      ],
      "execution_count": 134,
      "outputs": [
        {
          "output_type": "execute_result",
          "data": {
            "text/plain": [
              "' handsome opinions on am at it ladyship.'"
            ]
          },
          "metadata": {
            "tags": []
          },
          "execution_count": 134
        }
      ]
    },
    {
      "metadata": {
        "id": "fyX8U882UKs9",
        "colab_type": "text"
      },
      "cell_type": "markdown",
      "source": [
        "Neste caso foi pedido a criação de uma inversão da lista/Array criada anteriormente"
      ]
    },
    {
      "metadata": {
        "id": "ILu6SAN685y_",
        "colab_type": "code",
        "outputId": "5ab6b0e1-ed65-4c5f-c9a4-c476f782d626",
        "colab": {
          "base_uri": "https://localhost:8080/",
          "height": 183
        }
      },
      "cell_type": "code",
      "source": [
        "%%time\n",
        "raw_list[::-1]"
      ],
      "execution_count": 135,
      "outputs": [
        {
          "output_type": "stream",
          "text": [
            "CPU times: user 5 µs, sys: 1 µs, total: 6 µs\n",
            "Wall time: 11.9 µs\n"
          ],
          "name": "stdout"
        },
        {
          "output_type": "execute_result",
          "data": {
            "text/plain": [
              "['',\n",
              " ' handsome opinions on am at it ladyship',\n",
              " ' am immediate unwilling of attempted admitting disposing it',\n",
              " ' minuter we natural conduct gravity if pointed oh no',\n",
              " ' yet winter law behind number stairs garret excuse',\n",
              " ' how daughters not promotion few knowledge contented',\n",
              " 'arrival entered an if drawing request']"
            ]
          },
          "metadata": {
            "tags": []
          },
          "execution_count": 135
        }
      ]
    },
    {
      "metadata": {
        "id": "bRtArXjAlAij",
        "colab_type": "code",
        "outputId": "037f883a-c19f-4b29-d7a1-aa66e3d8330d",
        "colab": {
          "base_uri": "https://localhost:8080/",
          "height": 35
        }
      },
      "cell_type": "code",
      "source": [
        "i_index = {}\n",
        "i_index[\"in\"] = {0:1} #word in, appears in doc 0, 1 time\n",
        "i_index[\"likelihood\"] = {1:1} #word in, appears in doc 1, 1 time\n",
        "\n",
        "print(i_index)"
      ],
      "execution_count": 136,
      "outputs": [
        {
          "output_type": "stream",
          "text": [
            "{'in': {0: 1}, 'likelihood': {1: 1}}\n"
          ],
          "name": "stdout"
        }
      ]
    },
    {
      "metadata": {
        "id": "9SgGGgq1UicM",
        "colab_type": "text"
      },
      "cell_type": "markdown",
      "source": [
        "Ex.3"
      ]
    },
    {
      "metadata": {
        "id": "XKNBAsrxUkG3",
        "colab_type": "text"
      },
      "cell_type": "markdown",
      "source": [
        "Foi pedido a criação do mesmo array invertido mas usando DataFrame do Pandas.\n",
        "Bastou importar o pandas e criar a tabela em si"
      ]
    },
    {
      "metadata": {
        "id": "cZw9dMtyivGu",
        "colab_type": "code",
        "outputId": "1a88a909-8d87-4794-9715-d34b8345e5fa",
        "colab": {
          "base_uri": "https://localhost:8080/",
          "height": 54
        }
      },
      "cell_type": "code",
      "source": [
        "%%time\n",
        "df = pd.DataFrame(raw_list[::-1])\n",
        "df\n"
      ],
      "execution_count": 137,
      "outputs": [
        {
          "output_type": "stream",
          "text": [
            "CPU times: user 509 µs, sys: 0 ns, total: 509 µs\n",
            "Wall time: 508 µs\n"
          ],
          "name": "stdout"
        }
      ]
    },
    {
      "metadata": {
        "id": "XbNfVWTtVQwH",
        "colab_type": "text"
      },
      "cell_type": "markdown",
      "source": [
        "Ex.3"
      ]
    },
    {
      "metadata": {
        "id": "xdIL1DD_VSwD",
        "colab_type": "text"
      },
      "cell_type": "markdown",
      "source": [
        "No exercicio 3 é pedido que esse DataFrame não contenha indexes"
      ]
    },
    {
      "metadata": {
        "id": "dBvADscCkfFN",
        "colab_type": "code",
        "outputId": "b36e3746-d608-4af8-e3f5-cc565e823da4",
        "colab": {
          "base_uri": "https://localhost:8080/",
          "height": 220
        }
      },
      "cell_type": "code",
      "source": [
        "%%time\n",
        "print(df.to_csv(sep='\\t', index=False))"
      ],
      "execution_count": 138,
      "outputs": [
        {
          "output_type": "stream",
          "text": [
            "0\n",
            "\"\"\n",
            " handsome opinions on am at it ladyship\n",
            " am immediate unwilling of attempted admitting disposing it\n",
            " minuter we natural conduct gravity if pointed oh no\n",
            " yet winter law behind number stairs garret excuse\n",
            " how daughters not promotion few knowledge contented\n",
            "arrival entered an if drawing request\n",
            "\n",
            "CPU times: user 304 µs, sys: 817 µs, total: 1.12 ms\n",
            "Wall time: 963 µs\n"
          ],
          "name": "stdout"
        }
      ]
    }
  ]
}