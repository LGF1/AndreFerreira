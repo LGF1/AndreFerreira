{
  "nbformat": 4,
  "nbformat_minor": 0,
  "metadata": {
    "colab": {
      "name": "Untitled0.ipynb",
      "version": "0.3.2",
      "provenance": [],
      "include_colab_link": true
    },
    "kernelspec": {
      "name": "python3",
      "display_name": "Python 3"
    }
  },
  "cells": [
    {
      "cell_type": "markdown",
      "metadata": {
        "id": "view-in-github",
        "colab_type": "text"
      },
      "source": [
        "<a href=\"https://colab.research.google.com/github/LGF1/BigData1/blob/master/Untitled0.ipynb\" target=\"_parent\"><img src=\"https://colab.research.google.com/assets/colab-badge.svg\" alt=\"Open In Colab\"/></a>"
      ]
    },
    {
      "metadata": {
        "id": "rc7JIOG0Sjot",
        "colab_type": "code",
        "colab": {}
      },
      "cell_type": "code",
      "source": [
        "def solution(N):\n",
        "    indices = [bit for bit, x in enumerate(f'{N:0b}') if x == '1']\n",
        "    lengths = (end - beg for beg, end in zip(indices, indices[1:]))\n",
        "    return max(lengths, default=1) - 1"
      ],
      "execution_count": 0,
      "outputs": []
    }
  ]
}